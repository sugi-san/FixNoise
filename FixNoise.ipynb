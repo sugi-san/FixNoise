{
  "cells": [
    {
      "cell_type": "markdown",
      "metadata": {
        "id": "view-in-github",
        "colab_type": "text"
      },
      "source": [
        "<a href=\"https://colab.research.google.com/github/sugi-san/FixNoise/blob/main/FixNoise.ipynb\" target=\"_parent\"><img src=\"https://colab.research.google.com/assets/colab-badge.svg\" alt=\"Open In Colab\"/></a>"
      ]
    },
    {
      "cell_type": "code",
      "source": [
        "#@title **1.セットアップ**\n",
        "\n",
        "# get code from github\n",
        "! git clone https://github.com/sugi-san/FixNoise.git\n",
        "%cd FixNoise\n",
        "\n",
        "# install library\n",
        "! pip install legacy pyspng ninja imageio-ffmpeg==0.4.3 lpips\n",
        "\n",
        "# download pretrained_models\n",
        "! mkdir pretrained\n",
        "import gdown\n",
        "gdown.download('https://drive.google.com/uc?id=1YHa_g5xC_VM5MbHsr3VSfco1_PX1sRkA', 'pretrained/wikiart-fm0.05-004032.pkl', quiet=False)\n",
        "gdown.download('https://drive.google.com/uc?id=1Eo4T9KjkzRYdnENXgTpqIUOvaY4-SDeD', 'pretrained/metfaces-fm0.05-001612.pkl', quiet=False)\n",
        "gdown.download('https://drive.google.com/uc?id=1GzM3icWaSOSGcKfYoidjEaloqc_MyAxX', 'pretrained/aahq-fm0.05-010886.pkl', quiet=False)\n",
        "\n",
        "# import library\n",
        "from torchvision.utils import make_grid\n",
        "import os\n",
        "import torch\n",
        "import PIL.Image\n",
        "import imageio\n",
        "import numpy as np\n",
        "#from IPython.display import Video\n",
        "from IPython.core.display import Video\n",
        "#from legacy import load_network\n",
        "from legacy import *\n",
        "\n",
        "# inital setting\n",
        "c_dim = 0\n",
        "img_resolution = 256\n",
        "img_channels = 3\n",
        "\n",
        "# difine function\n",
        "def generate_blended_img(G_s, G_t, z=None, blend_weights=[0,0.25,0.5,0.75,1], truncation_psi=0.7, truncation_cutoff=8):\n",
        "    all_images = []\n",
        "    \n",
        "    if z == None:\n",
        "        z = torch.randn([1,512]).cuda()\n",
        "    assert z.shape == torch.Size([1, 512])\n",
        "    \n",
        "    c = torch.zeros(1,0).cuda()\n",
        "\n",
        "    img = G_s(z, c, truncation_psi, truncation_cutoff, noise_mode='const')\n",
        "    all_images.append(img)\n",
        "\n",
        "    for weight in blend_weights:\n",
        "        img = G_t(z, c, truncation_psi, truncation_cutoff, noise_mode='interpolate', blend_weight=weight)\n",
        "        all_images.append(img)\n",
        "\n",
        "    all_images = torch.cat(all_images)\n",
        "    images = make_grid(all_images, nrow=len(blend_weights)+1, padding=5, pad_value=0.99999)\n",
        "    images = (images.permute(1, 2, 0) * 127.5 + 128).clamp(0, 255).to(torch.uint8).cpu().numpy()\n",
        "    images = PIL.Image.fromarray(images, 'RGB')\n",
        "    return images\n",
        "\n",
        "\n",
        "from IPython.display import display, HTML\n",
        "\n",
        "def display_mp4(path):\n",
        "    from base64 import b64encode\n",
        "    mp4 = open(path,'rb').read()\n",
        "    data_url = \"data:video/mp4;base64,\" + b64encode(mp4).decode()\n",
        "    display(HTML(\"\"\"\n",
        "    <video width=700 controls>\n",
        "        <source src=\"%s\" type=\"video/mp4\">\n",
        "    </video>\n",
        "    \"\"\" % data_url))"
      ],
      "metadata": {
        "id": "kC7Bd1NtAgwZ"
      },
      "execution_count": null,
      "outputs": []
    },
    {
      "cell_type": "code",
      "source": [
        "#@title **2.セレクト・モデル**\n",
        "\n",
        "target_dataset = 'aahq' #@param ['metfaces', 'aahq', 'wikiart']\n",
        "\n",
        "if target_dataset == 'metfaces':\n",
        "  cfg = 'paper256'\n",
        "  source_pkl = 'https://nvlabs-fi-cdn.nvidia.com/stylegan2-ada-pytorch/pretrained/transfer-learning-source-nets/ffhq-res256-mirror-paper256-noaug.pkl'\n",
        "  target_pkl = 'pretrained/metfaces-fm0.05-001612.pkl'\n",
        "\n",
        "if target_dataset == 'aahq':\n",
        "  cfg = 'paper256'\n",
        "  source_pkl = 'https://nvlabs-fi-cdn.nvidia.com/stylegan2-ada-pytorch/pretrained/transfer-learning-source-nets/ffhq-res256-mirror-paper256-noaug.pkl'\n",
        "  target_pkl = 'pretrained/aahq-fm0.05-010886.pkl'\n",
        "\n",
        "if target_dataset == 'wikiart':\n",
        "  cfg = 'stylegan2'\n",
        "  source_pkl = 'https://nvlabs-fi-cdn.nvidia.com/stylegan2/networks/stylegan2-church-config-f.pkl'\n",
        "  target_pkl = 'pretrained/wikiart-fm0.05-004032.pkl'\n",
        "\n",
        "G_s = load_network(cfg, source_pkl, img_resolution, img_channels, c_dim).cuda()\n",
        "G_t = load_network(cfg, target_pkl, img_resolution, img_channels, c_dim).cuda()"
      ],
      "metadata": {
        "id": "IOOOu3sYbRx1"
      },
      "execution_count": null,
      "outputs": []
    },
    {
      "cell_type": "markdown",
      "metadata": {
        "id": "4fHT7yZf-sYm"
      },
      "source": [
        "# Generate Noise Interpolation result images"
      ]
    },
    {
      "cell_type": "code",
      "execution_count": null,
      "metadata": {
        "id": "qkRsh5uW-sYm"
      },
      "outputs": [],
      "source": [
        "generate_blended_img(G_s, G_t)"
      ]
    },
    {
      "cell_type": "code",
      "execution_count": null,
      "metadata": {
        "id": "SF4ZBV3S-sYm"
      },
      "outputs": [],
      "source": [
        "z = torch.randn([1,512]).cuda()\n",
        "generate_blended_img(G_s, G_t, z=z)"
      ]
    },
    {
      "cell_type": "code",
      "execution_count": null,
      "metadata": {
        "id": "nsu9azPf-sYn"
      },
      "outputs": [],
      "source": [
        "G_t.sample_noise()\n",
        "generate_blended_img(G_s, G_t, z=z)"
      ]
    },
    {
      "cell_type": "markdown",
      "metadata": {
        "id": "bil7tAVF-sYn"
      },
      "source": [
        "# Generate Noise Interpolation result video"
      ]
    },
    {
      "cell_type": "code",
      "execution_count": null,
      "metadata": {
        "id": "xlft3cQl-sYn"
      },
      "outputs": [],
      "source": [
        "#@title Generate Noise Interpolation result video\n",
        "\n",
        "num_step = 201\n",
        "truncation_psi = 0.7 \n",
        "truncation_cutoff = 8\n",
        "\n",
        "blend_weights = np.linspace(0,1,num_step)\n",
        "\n",
        "outdir = 'results'\n",
        "os.makedirs(outdir, exist_ok=True)\n",
        "video = imageio.get_writer(f'{outdir}/noise_interpolation_{target_dataset}00.mp4', mode='I', fps=50, codec='libx264', bitrate='16M')\n",
        "\n",
        "z = torch.randn([1,512]).cuda()\n",
        "c = torch.zeros(1,0).cuda()\n",
        "\n",
        "img_source = G_s(z, c, truncation_psi, truncation_cutoff, noise_mode='const')\n",
        "\n",
        "for weight in blend_weights:\n",
        "    img = G_t(z, c, truncation_psi, truncation_cutoff, noise_mode='interpolate', blend_weight=weight)\n",
        "   \n",
        "    all_images = torch.cat([img_source, img])\n",
        "    images = make_grid(all_images, nrow=2, padding=0)\n",
        "    images = (images.permute(1, 2, 0) * 127.5 + 128).clamp(0, 255).to(torch.uint8).cpu().numpy()\n",
        "    video.append_data(images)\n",
        "video.close()\n",
        "\n",
        "display_mp4('results/noise_interpolation_'+target_dataset+'00.mp4')"
      ]
    }
  ],
  "metadata": {
    "kernelspec": {
      "display_name": "Python 3",
      "language": "python",
      "name": "python3"
    },
    "language_info": {
      "codemirror_mode": {
        "name": "ipython",
        "version": 3
      },
      "file_extension": ".py",
      "mimetype": "text/x-python",
      "name": "python",
      "nbconvert_exporter": "python",
      "pygments_lexer": "ipython3",
      "version": "3.8.5"
    },
    "colab": {
      "name": "FixNoise",
      "provenance": [],
      "collapsed_sections": [],
      "include_colab_link": true
    },
    "accelerator": "GPU"
  },
  "nbformat": 4,
  "nbformat_minor": 0
}